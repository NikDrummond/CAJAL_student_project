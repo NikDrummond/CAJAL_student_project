{
 "cells": [
  {
   "cell_type": "code",
   "execution_count": 6,
   "metadata": {},
   "outputs": [],
   "source": [
    "import numpy as np\n",
    "import matplotlib.pyplot as plt\n",
    "import time\n",
    "from scipy import special"
   ]
  },
  {
   "cell_type": "code",
   "execution_count": 2,
   "metadata": {},
   "outputs": [],
   "source": [
    "def dimension(aM):\n",
    "    cov_m = np.cov(aM)\n",
    "    trC_2 = np.sum(np.diag(cov_m))**2\n",
    "    tr_C2 = np.sum(cov_m * cov_m)\n",
    "    dim_m = trC_2 / tr_C2\n",
    "    return dim_m\n",
    "\n",
    "def run_network(N, k, M, f, times, inh_flag):\n",
    "    \n",
    "    rng = np.random.default_rng(seed=100*k)\n",
    "    \n",
    "    aM = np.zeros((M, len(times)))\n",
    "    X = rng.normal(0, 1, (N, len(times)))\n",
    "    \n",
    "    J = np.zeros((M, N))\n",
    "    for post in range(M):\n",
    "        pre = rng.choice(N, size=k, replace=False)\n",
    "        J[post, pre] = 1\n",
    "    \n",
    "    if inh_flag:\n",
    "        J = J - np.mean(J)\n",
    "    \n",
    "    #define thresholds for each neuron in M, based on f\n",
    "    theta = np.sqrt(2*np.sum(J**2, axis=1)) * special.erfcinv(2*f)\n",
    "    \n",
    "    for it,t in enumerate(times):      \n",
    "    \n",
    "        m0 = np.dot(J, X[:,it]) - theta\n",
    "        aM[:, it] = np.where(m0 > 0, 1, 0)\n",
    "        \n",
    "    return aM"
   ]
  },
  {
   "cell_type": "code",
   "execution_count": 3,
   "metadata": {},
   "outputs": [],
   "source": [
    "# parameters\n",
    "\n",
    "N = 50\n",
    "Ks = np.arange(2, 21) # this is what we will change\n",
    "f = 0.1\n",
    "times = np.arange(0, 10000)\n",
    "S = 14000"
   ]
  },
  {
   "cell_type": "code",
   "execution_count": 7,
   "metadata": {},
   "outputs": [
    {
     "name": "stdout",
     "output_type": "stream",
     "text": [
      "2 -4.846452713012695\n",
      "3 -1.962264060974121\n",
      "4 -1.4050376415252686\n",
      "5 -1.153242588043213\n",
      "6 -0.9193770885467529\n",
      "7 -0.7164874076843262\n",
      "8 -0.5835592746734619\n",
      "9 -0.5059490203857422\n",
      "10 -0.4399840831756592\n",
      "11 -0.43613767623901367\n",
      "12 -0.36042261123657227\n",
      "13 -0.3250157833099365\n",
      "14 -0.29759860038757324\n",
      "15 -0.28638410568237305\n",
      "16 -0.2695164680480957\n",
      "17 -0.25929927825927734\n",
      "18 -0.2548987865447998\n",
      "19 -0.26537561416625977\n",
      "20 -0.26061439514160156\n",
      "Maximum dimension at K = 3, No inh\n",
      "Maximum dimension at K = 8, Inh\n"
     ]
    }
   ],
   "source": [
    "dimMs = np.zeros((len(Ks), 2))\n",
    "\n",
    "for ik, k in enumerate(Ks):\n",
    "        M = np.round(S/k, 0).astype(int)\n",
    "        \n",
    "        t0 = time.time()\n",
    "        aM = run_network(N, k, M, f, times, inh_flag=False)\n",
    "        dim_mk = dimension(aM)\n",
    "        t1 = time.time()\n",
    "        print(k, t0-t1)\n",
    "        dimMs[ik, 0] = dim_mk/N\n",
    "        \n",
    "        aM_inh = run_network(N, k, M, f, times, inh_flag=True)\n",
    "        dim_mk = dimension(aM_inh)\n",
    "        dimMs[ik, 1] = dim_mk/N\n",
    "\n",
    "print('Maximum dimension at K = {}, No inh'.format(Ks[np.argmax(dimMs[:,0])]))\n",
    "print('Maximum dimension at K = {}, Inh'.format(Ks[np.argmax(dimMs[:,1])]))"
   ]
  },
  {
   "cell_type": "code",
   "execution_count": 8,
   "metadata": {},
   "outputs": [
    {
     "data": {
      "text/plain": [
       "<matplotlib.legend.Legend at 0x7f55866857c0>"
      ]
     },
     "execution_count": 8,
     "metadata": {},
     "output_type": "execute_result"
    },
    {
     "data": {
      "image/png": "[encoded data removed]",
      "text/plain": [
       "<Figure size 432x288 with 1 Axes>"
      ]
     },
     "metadata": {
      "needs_background": "light"
     },
     "output_type": "display_data"
    }
   ],
   "source": [
    "fig = plt.figure()\n",
    "ax = plt.gca()\n",
    "ax.plot(Ks, dimMs[:,0], 'k.-', label='No Inh')\n",
    "ax.plot(Ks, dimMs[:,1], 'r.-', label='Inh')\n",
    "ax.set_xlabel('K')\n",
    "ax.set_ylabel('dim(M)/N')\n",
    "ax.legend()"
   ]
  },
  {
   "cell_type": "code",
   "execution_count": null,
   "metadata": {},
   "outputs": [],
   "source": []
  }
 ],
 "metadata": {
  "kernelspec": {
   "display_name": "Python 3",
   "language": "python",
   "name": "python3"
  },
  "language_info": {
   "codemirror_mode": {
    "name": "ipython",
    "version": 3
   },
   "file_extension": ".py",
   "mimetype": "text/x-python",
   "name": "python",
   "nbconvert_exporter": "python",
   "pygments_lexer": "ipython3",
   "version": "3.8.10"
  }
 },
 "nbformat": 4,
 "nbformat_minor": 4
}
